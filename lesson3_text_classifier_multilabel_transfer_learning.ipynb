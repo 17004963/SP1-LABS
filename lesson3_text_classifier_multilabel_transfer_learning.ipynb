{
  "nbformat": 4,
  "nbformat_minor": 0,
  "metadata": {
    "colab": {
      "name": "lesson3-text-classifier-multilabel-transfer-learning.ipynb",
      "provenance": [],
      "collapsed_sections": [],
      "include_colab_link": true
    },
    "kernelspec": {
      "name": "python3",
      "display_name": "Python 3"
    }
  },
  "cells": [
    {
      "cell_type": "markdown",
      "metadata": {
        "id": "view-in-github",
        "colab_type": "text"
      },
      "source": [
        "<a href=\"https://colab.research.google.com/github/17004963/SP1-LABS/blob/master/lesson3_text_classifier_multilabel_transfer_learning.ipynb\" target=\"_parent\"><img src=\"https://colab.research.google.com/assets/colab-badge.svg\" alt=\"Open In Colab\"/></a>"
      ]
    },
    {
      "cell_type": "markdown",
      "metadata": {
        "id": "1omFRG1dn1GK",
        "colab_type": "text"
      },
      "source": [
        "#Imports"
      ]
    },
    {
      "cell_type": "code",
      "metadata": {
        "id": "UUMqIqQflTWa",
        "colab_type": "code",
        "outputId": "8b19865c-5282-48c1-e490-ee37b2a69bd1",
        "colab": {
          "base_uri": "https://localhost:8080/",
          "height": 34
        }
      },
      "source": [
        "%tensorflow_version 2.x\n",
        "\n",
        "import tensorflow as tf\n",
        "import tensorflow_hub as hub\n",
        "\n",
        "from tensorflow.keras.preprocessing.text import Tokenizer\n",
        "from tensorflow.keras.preprocessing.sequence import pad_sequences\n",
        "\n",
        "from tensorflow.keras.models import Sequential\n",
        "from tensorflow.keras.layers import Dense, Embedding, Flatten, GlobalAveragePooling1D\n",
        "\n",
        "import numpy as np\n",
        "import pandas as pd\n",
        "import matplotlib.pylab as plt\n",
        "import os, re, json, functools\n",
        "\n",
        "#dark mode\n",
        "plt.rc_context({'xtick.color':'w', 'ytick.color':'w', 'text.color':'w', 'axes.labelcolor':'w'})\n",
        "\n",
        "seed=1234\n",
        "np.random.seed(seed)\n",
        "tf.random.set_seed(seed)"
      ],
      "execution_count": 1,
      "outputs": [
        {
          "output_type": "stream",
          "text": [
            "TensorFlow 2.x selected.\n"
          ],
          "name": "stdout"
        }
      ]
    },
    {
      "cell_type": "code",
      "metadata": {
        "id": "ia0KlyCBoKbf",
        "colab_type": "code",
        "outputId": "834a0005-33d3-4fa2-ce4c-52a52e808a8d",
        "colab": {
          "base_uri": "https://localhost:8080/",
          "height": 497
        }
      },
      "source": [
        "pip install kaggle --upgrade"
      ],
      "execution_count": 2,
      "outputs": [
        {
          "output_type": "stream",
          "text": [
            "Requirement already up-to-date: kaggle in /usr/local/lib/python3.6/dist-packages (1.5.6)\n",
            "Requirement already satisfied, skipping upgrade: python-slugify in /usr/local/lib/python3.6/dist-packages (from kaggle) (4.0.0)\n",
            "Collecting urllib3<1.25,>=1.21.1\n",
            "\u001b[?25l  Downloading https://files.pythonhosted.org/packages/01/11/525b02e4acc0c747de8b6ccdab376331597c569c42ea66ab0a1dbd36eca2/urllib3-1.24.3-py2.py3-none-any.whl (118kB)\n",
            "\r\u001b[K     |██▊                             | 10kB 17.2MB/s eta 0:00:01\r\u001b[K     |█████▌                          | 20kB 6.6MB/s eta 0:00:01\r\u001b[K     |████████▎                       | 30kB 7.9MB/s eta 0:00:01\r\u001b[K     |███████████                     | 40kB 5.8MB/s eta 0:00:01\r\u001b[K     |█████████████▉                  | 51kB 6.3MB/s eta 0:00:01\r\u001b[K     |████████████████▌               | 61kB 7.3MB/s eta 0:00:01\r\u001b[K     |███████████████████▎            | 71kB 8.0MB/s eta 0:00:01\r\u001b[K     |██████████████████████          | 81kB 7.0MB/s eta 0:00:01\r\u001b[K     |████████████████████████▉       | 92kB 7.7MB/s eta 0:00:01\r\u001b[K     |███████████████████████████▋    | 102kB 8.0MB/s eta 0:00:01\r\u001b[K     |██████████████████████████████▍ | 112kB 8.0MB/s eta 0:00:01\r\u001b[K     |████████████████████████████████| 122kB 8.0MB/s \n",
            "\u001b[?25hRequirement already satisfied, skipping upgrade: six>=1.10 in /tensorflow-2.1.0/python3.6 (from kaggle) (1.14.0)\n",
            "Requirement already satisfied, skipping upgrade: tqdm in /usr/local/lib/python3.6/dist-packages (from kaggle) (4.28.1)\n",
            "Requirement already satisfied, skipping upgrade: python-dateutil in /usr/local/lib/python3.6/dist-packages (from kaggle) (2.6.1)\n",
            "Requirement already satisfied, skipping upgrade: certifi in /tensorflow-2.1.0/python3.6 (from kaggle) (2019.11.28)\n",
            "Requirement already satisfied, skipping upgrade: requests in /tensorflow-2.1.0/python3.6 (from kaggle) (2.22.0)\n",
            "Requirement already satisfied, skipping upgrade: text-unidecode>=1.3 in /usr/local/lib/python3.6/dist-packages (from python-slugify->kaggle) (1.3)\n",
            "Requirement already satisfied, skipping upgrade: chardet<3.1.0,>=3.0.2 in /tensorflow-2.1.0/python3.6 (from requests->kaggle) (3.0.4)\n",
            "Requirement already satisfied, skipping upgrade: idna<2.9,>=2.5 in /tensorflow-2.1.0/python3.6 (from requests->kaggle) (2.8)\n",
            "\u001b[31mERROR: google-colab 1.0.0 has requirement google-auth~=1.4.0, but you'll have google-auth 1.10.1 which is incompatible.\u001b[0m\n",
            "\u001b[31mERROR: google-colab 1.0.0 has requirement requests~=2.21.0, but you'll have requests 2.22.0 which is incompatible.\u001b[0m\n",
            "\u001b[31mERROR: google-colab 1.0.0 has requirement six~=1.12.0, but you'll have six 1.14.0 which is incompatible.\u001b[0m\n",
            "\u001b[31mERROR: datascience 0.10.6 has requirement folium==0.2.1, but you'll have folium 0.8.3 which is incompatible.\u001b[0m\n",
            "Installing collected packages: urllib3\n",
            "  Found existing installation: urllib3 1.25.7\n",
            "    Uninstalling urllib3-1.25.7:\n",
            "      Successfully uninstalled urllib3-1.25.7\n",
            "Successfully installed urllib3-1.24.3\n"
          ],
          "name": "stdout"
        },
        {
          "output_type": "display_data",
          "data": {
            "application/vnd.colab-display-data+json": {
              "pip_warning": {
                "packages": [
                  "urllib3"
                ]
              }
            }
          },
          "metadata": {
            "tags": []
          }
        }
      ]
    },
    {
      "cell_type": "markdown",
      "metadata": {
        "id": "1VZ5G7lGoBJy",
        "colab_type": "text"
      },
      "source": [
        "#Dataset"
      ]
    },
    {
      "cell_type": "code",
      "metadata": {
        "id": "fKert1GfoMiC",
        "colab_type": "code",
        "colab": {}
      },
      "source": [
        "os.environ['KAGGLE_USERNAME'] = \"alejandrocolindres\"\n",
        "os.environ['KAGGLE_KEY'] = \"17e1729763c87121d962b24e9fb6a6c3\""
      ],
      "execution_count": 0,
      "outputs": []
    },
    {
      "cell_type": "code",
      "metadata": {
        "id": "3qJfgmOOoOLo",
        "colab_type": "code",
        "outputId": "7d48c8a4-f85a-49f1-a3f9-e624e77084e4",
        "colab": {
          "base_uri": "https://localhost:8080/",
          "height": 68
        }
      },
      "source": [
        "#https://www.kaggle.com/rounakbanik/the-movies-dataset\n",
        "!kaggle datasets download tmdb/tmdb-movie-metadata\n"
      ],
      "execution_count": 4,
      "outputs": [
        {
          "output_type": "stream",
          "text": [
            "Downloading tmdb-movie-metadata.zip to /content\n",
            " 56% 5.00M/8.89M [00:00<00:00, 15.7MB/s]\n",
            "100% 8.89M/8.89M [00:00<00:00, 25.6MB/s]\n"
          ],
          "name": "stdout"
        }
      ]
    },
    {
      "cell_type": "code",
      "metadata": {
        "id": "xGi86gE4oT-0",
        "colab_type": "code",
        "outputId": "2f08c357-51bc-494e-a894-df7e4e3ab33f",
        "colab": {
          "base_uri": "https://localhost:8080/",
          "height": 68
        }
      },
      "source": [
        "!unzip -o 'tmdb-movie-metadata.zip'"
      ],
      "execution_count": 5,
      "outputs": [
        {
          "output_type": "stream",
          "text": [
            "Archive:  tmdb-movie-metadata.zip\n",
            "  inflating: tmdb_5000_credits.csv   \n",
            "  inflating: tmdb_5000_movies.csv    \n"
          ],
          "name": "stdout"
        }
      ]
    },
    {
      "cell_type": "code",
      "metadata": {
        "id": "w-xyPrtAo979",
        "colab_type": "code",
        "outputId": "3bff109a-6054-4c2e-891a-84406122fc79",
        "colab": {
          "base_uri": "https://localhost:8080/",
          "height": 102
        }
      },
      "source": [
        "os.listdir()"
      ],
      "execution_count": 6,
      "outputs": [
        {
          "output_type": "execute_result",
          "data": {
            "text/plain": [
              "['.config',\n",
              " 'tmdb_5000_credits.csv',\n",
              " 'tmdb-movie-metadata.zip',\n",
              " 'tmdb_5000_movies.csv',\n",
              " 'sample_data']"
            ]
          },
          "metadata": {
            "tags": []
          },
          "execution_count": 6
        }
      ]
    },
    {
      "cell_type": "code",
      "metadata": {
        "id": "DoyZ3q0joxCa",
        "colab_type": "code",
        "outputId": "4865412d-9297-4ff3-99cf-91aacfc1d99e",
        "colab": {
          "base_uri": "https://localhost:8080/",
          "height": 255
        }
      },
      "source": [
        "movies = pd.read_csv('tmdb_5000_movies.csv')\n",
        "movies.head"
      ],
      "execution_count": 7,
      "outputs": [
        {
          "output_type": "execute_result",
          "data": {
            "text/plain": [
              "<bound method NDFrame.head of          budget  ... vote_count\n",
              "0     237000000  ...      11800\n",
              "1     300000000  ...       4500\n",
              "2     245000000  ...       4466\n",
              "3     250000000  ...       9106\n",
              "4     260000000  ...       2124\n",
              "...         ...  ...        ...\n",
              "4798     220000  ...        238\n",
              "4799       9000  ...          5\n",
              "4800          0  ...          6\n",
              "4801          0  ...          7\n",
              "4802          0  ...         16\n",
              "\n",
              "[4803 rows x 20 columns]>"
            ]
          },
          "metadata": {
            "tags": []
          },
          "execution_count": 7
        }
      ]
    },
    {
      "cell_type": "code",
      "metadata": {
        "id": "ox8BRpVrqZCU",
        "colab_type": "code",
        "outputId": "eb9c38e1-38bf-46f9-f52d-e139e51678b4",
        "colab": {
          "base_uri": "https://localhost:8080/",
          "height": 119
        }
      },
      "source": [
        "movies.columns"
      ],
      "execution_count": 8,
      "outputs": [
        {
          "output_type": "execute_result",
          "data": {
            "text/plain": [
              "Index(['budget', 'genres', 'homepage', 'id', 'keywords', 'original_language',\n",
              "       'original_title', 'overview', 'popularity', 'production_companies',\n",
              "       'production_countries', 'release_date', 'revenue', 'runtime',\n",
              "       'spoken_languages', 'status', 'tagline', 'title', 'vote_average',\n",
              "       'vote_count'],\n",
              "      dtype='object')"
            ]
          },
          "metadata": {
            "tags": []
          },
          "execution_count": 8
        }
      ]
    },
    {
      "cell_type": "code",
      "metadata": {
        "id": "RNfs1dxLp2BF",
        "colab_type": "code",
        "outputId": "965f34dc-a0bd-4194-bdbb-1699d211a7a9",
        "colab": {
          "base_uri": "https://localhost:8080/",
          "height": 221
        }
      },
      "source": [
        "movies.genres"
      ],
      "execution_count": 9,
      "outputs": [
        {
          "output_type": "execute_result",
          "data": {
            "text/plain": [
              "0       [{\"id\": 28, \"name\": \"Action\"}, {\"id\": 12, \"nam...\n",
              "1       [{\"id\": 12, \"name\": \"Adventure\"}, {\"id\": 14, \"...\n",
              "2       [{\"id\": 28, \"name\": \"Action\"}, {\"id\": 12, \"nam...\n",
              "3       [{\"id\": 28, \"name\": \"Action\"}, {\"id\": 80, \"nam...\n",
              "4       [{\"id\": 28, \"name\": \"Action\"}, {\"id\": 12, \"nam...\n",
              "                              ...                        \n",
              "4798    [{\"id\": 28, \"name\": \"Action\"}, {\"id\": 80, \"nam...\n",
              "4799    [{\"id\": 35, \"name\": \"Comedy\"}, {\"id\": 10749, \"...\n",
              "4800    [{\"id\": 35, \"name\": \"Comedy\"}, {\"id\": 18, \"nam...\n",
              "4801                                                   []\n",
              "4802                  [{\"id\": 99, \"name\": \"Documentary\"}]\n",
              "Name: genres, Length: 4803, dtype: object"
            ]
          },
          "metadata": {
            "tags": []
          },
          "execution_count": 9
        }
      ]
    },
    {
      "cell_type": "code",
      "metadata": {
        "id": "0-W7T9weqWcG",
        "colab_type": "code",
        "outputId": "9101657b-f8a0-4227-a44b-5641c70b3672",
        "colab": {
          "base_uri": "https://localhost:8080/",
          "height": 221
        }
      },
      "source": [
        "movies.overview"
      ],
      "execution_count": 10,
      "outputs": [
        {
          "output_type": "execute_result",
          "data": {
            "text/plain": [
              "0       In the 22nd century, a paraplegic Marine is di...\n",
              "1       Captain Barbossa, long believed to be dead, ha...\n",
              "2       A cryptic message from Bond’s past sends him o...\n",
              "3       Following the death of District Attorney Harve...\n",
              "4       John Carter is a war-weary, former military ca...\n",
              "                              ...                        \n",
              "4798    El Mariachi just wants to play his guitar and ...\n",
              "4799    A newlywed couple's honeymoon is upended by th...\n",
              "4800    \"Signed, Sealed, Delivered\" introduces a dedic...\n",
              "4801    When ambitious New York attorney Sam is sent t...\n",
              "4802    Ever since the second grade when he first saw ...\n",
              "Name: overview, Length: 4803, dtype: object"
            ]
          },
          "metadata": {
            "tags": []
          },
          "execution_count": 10
        }
      ]
    },
    {
      "cell_type": "code",
      "metadata": {
        "id": "SFRtFNWuqXa3",
        "colab_type": "code",
        "colab": {
          "base_uri": "https://localhost:8080/",
          "height": 71
        },
        "outputId": "4dfd4817-fbf6-4773-c8a6-71396d21593b"
      },
      "source": [
        "movies = movies[movies['id'] != '0']\n",
        "movies = movies[movies['genres'] != \"[]\"]\n",
        "movies = movies[~pd.isna(movies['overview'])]\n",
        "\n",
        "overview = movies['overview']\n",
        "genres = movies['genres']\n",
        "\n",
        "dataset = movies[['overview', 'genres']] "
      ],
      "execution_count": 12,
      "outputs": [
        {
          "output_type": "stream",
          "text": [
            "/usr/local/lib/python3.6/dist-packages/pandas/core/ops/__init__.py:1115: FutureWarning: elementwise comparison failed; returning scalar instead, but in the future will perform elementwise comparison\n",
            "  result = method(y)\n"
          ],
          "name": "stderr"
        }
      ]
    },
    {
      "cell_type": "code",
      "metadata": {
        "id": "qTAqu8CL5YYn",
        "colab_type": "code",
        "outputId": "56756c99-0cef-4ff8-e343-46a6f5fd8b6f",
        "colab": {
          "base_uri": "https://localhost:8080/",
          "height": 34
        }
      },
      "source": [
        "len(dataset)"
      ],
      "execution_count": 14,
      "outputs": [
        {
          "output_type": "execute_result",
          "data": {
            "text/plain": [
              "4772"
            ]
          },
          "metadata": {
            "tags": []
          },
          "execution_count": 14
        }
      ]
    },
    {
      "cell_type": "code",
      "metadata": {
        "id": "E0EBANiQWBMa",
        "colab_type": "code",
        "outputId": "9fa8d047-f5a8-4728-8db6-3ebe11c1616c",
        "colab": {
          "base_uri": "https://localhost:8080/",
          "height": 34
        }
      },
      "source": [
        "#DATASET_SIZE = len(genres)\n",
        "#CLASS_NAMES = ['Drama','Comedy','Thriller','Romance','Action','Horror','Crime','Documentary','Adventure','Science Fiction']\n",
        "CLASS_NAMES = ['Drama','Comedy','Thriller','Romance','Action']\n",
        "CLASS_COUNT = len(CLASS_NAMES)\n",
        "CLASS_COUNT"
      ],
      "execution_count": 15,
      "outputs": [
        {
          "output_type": "execute_result",
          "data": {
            "text/plain": [
              "5"
            ]
          },
          "metadata": {
            "tags": []
          },
          "execution_count": 15
        }
      ]
    },
    {
      "cell_type": "code",
      "metadata": {
        "id": "fmIKjuKhVE8-",
        "colab_type": "code",
        "outputId": "1a9496b1-9537-478e-b70d-71efed235023",
        "colab": {
          "base_uri": "https://localhost:8080/",
          "height": 34
        }
      },
      "source": [
        "dataset.iloc[0]['genres']"
      ],
      "execution_count": 16,
      "outputs": [
        {
          "output_type": "execute_result",
          "data": {
            "text/plain": [
              "'[{\"id\": 28, \"name\": \"Action\"}, {\"id\": 12, \"name\": \"Adventure\"}, {\"id\": 14, \"name\": \"Fantasy\"}, {\"id\": 878, \"name\": \"Science Fiction\"}]'"
            ]
          },
          "metadata": {
            "tags": []
          },
          "execution_count": 16
        }
      ]
    },
    {
      "cell_type": "code",
      "metadata": {
        "id": "WaOjvNYKq9dT",
        "colab_type": "code",
        "outputId": "d7d88689-1a46-4e55-8b4a-dbc9deece93b",
        "colab": {
          "base_uri": "https://localhost:8080/",
          "height": 139
        }
      },
      "source": [
        "dataset['genres'].replace(\"\\'\", \"\\\"\", regex=True, inplace=True)\n",
        "dataset.iloc[0]['genres']"
      ],
      "execution_count": 17,
      "outputs": [
        {
          "output_type": "stream",
          "text": [
            "/usr/local/lib/python3.6/dist-packages/pandas/core/generic.py:6786: SettingWithCopyWarning: \n",
            "A value is trying to be set on a copy of a slice from a DataFrame\n",
            "\n",
            "See the caveats in the documentation: http://pandas.pydata.org/pandas-docs/stable/user_guide/indexing.html#returning-a-view-versus-a-copy\n",
            "  self._update_inplace(new_data)\n"
          ],
          "name": "stderr"
        },
        {
          "output_type": "execute_result",
          "data": {
            "text/plain": [
              "'[{\"id\": 28, \"name\": \"Action\"}, {\"id\": 12, \"name\": \"Adventure\"}, {\"id\": 14, \"name\": \"Fantasy\"}, {\"id\": 878, \"name\": \"Science Fiction\"}]'"
            ]
          },
          "metadata": {
            "tags": []
          },
          "execution_count": 17
        }
      ]
    },
    {
      "cell_type": "code",
      "metadata": {
        "id": "XZhsqSRqtG8k",
        "colab_type": "code",
        "colab": {}
      },
      "source": [
        "#genre_to_id = dict()\n",
        "label_count = dict()\n",
        "\n",
        "def genre_to_list(str_genre):\n",
        "  keep = True\n",
        "  genre_list = list(map(lambda genre:genre['name'],json.loads(str_genre)))\n",
        "  \n",
        "  for genre in genre_list:\n",
        "    count = label_count.get(genre, 0) + 1\n",
        "    label_count[genre] = count\n",
        "    if (count > 5000):\n",
        "      keep = False\n",
        "    #if (genre_to_id.get(genre,-1) == -1):\n",
        "    #  genre_to_id[genre] = len(genre_to_id.keys())\n",
        "  genres_as_ids = list(map(lambda x: CLASS_NAMES.index(x), filter(lambda x: x in CLASS_NAMES, genre_list)))\n",
        "  #genres_as_ids = list(map(lambda x:genre_to_id[x], genre_list)) \n",
        "  genres_one_hot = list()\n",
        "\n",
        "  if (len(genres_as_ids) > 0 and keep):\n",
        "    genres_one_hot = tf.keras.utils.to_categorical(genres_as_ids, CLASS_COUNT, dtype='int')\n",
        "    genres_one_hot = functools.reduce(lambda x,y : x+y,genres_one_hot)\n",
        "\n",
        "  return genres_one_hot"
      ],
      "execution_count": 0,
      "outputs": []
    },
    {
      "cell_type": "code",
      "metadata": {
        "id": "vlwXHb4asIRk",
        "colab_type": "code",
        "outputId": "f08fc028-8a5d-4c71-b8f8-77bf16518554",
        "colab": {
          "base_uri": "https://localhost:8080/",
          "height": 156
        }
      },
      "source": [
        "dataset['genres'] = dataset['genres'].apply(lambda x: genre_to_list(x))\n",
        "dataset.iloc[0]['genres']"
      ],
      "execution_count": 19,
      "outputs": [
        {
          "output_type": "stream",
          "text": [
            "/usr/local/lib/python3.6/dist-packages/ipykernel_launcher.py:1: SettingWithCopyWarning: \n",
            "A value is trying to be set on a copy of a slice from a DataFrame.\n",
            "Try using .loc[row_indexer,col_indexer] = value instead\n",
            "\n",
            "See the caveats in the documentation: http://pandas.pydata.org/pandas-docs/stable/user_guide/indexing.html#returning-a-view-versus-a-copy\n",
            "  \"\"\"Entry point for launching an IPython kernel.\n"
          ],
          "name": "stderr"
        },
        {
          "output_type": "execute_result",
          "data": {
            "text/plain": [
              "array([0, 0, 0, 0, 1])"
            ]
          },
          "metadata": {
            "tags": []
          },
          "execution_count": 19
        }
      ]
    },
    {
      "cell_type": "code",
      "metadata": {
        "id": "8pXk8DNdgcLa",
        "colab_type": "code",
        "outputId": "de821bda-a47c-45c9-b256-37d68778d8ca",
        "colab": {
          "base_uri": "https://localhost:8080/",
          "height": 34
        }
      },
      "source": [
        "dataset = dataset[~dataset['genres'].str.len().eq(0)]\n",
        "len(dataset)"
      ],
      "execution_count": 20,
      "outputs": [
        {
          "output_type": "execute_result",
          "data": {
            "text/plain": [
              "4351"
            ]
          },
          "metadata": {
            "tags": []
          },
          "execution_count": 20
        }
      ]
    },
    {
      "cell_type": "code",
      "metadata": {
        "id": "EfE5j7MESK4S",
        "colab_type": "code",
        "outputId": "bea2b8ea-358e-4608-d774-1fc15cbf91d2",
        "colab": {
          "base_uri": "https://localhost:8080/",
          "height": 357
        }
      },
      "source": [
        "sorted(label_count.items(), key=lambda x: x[1], reverse=True)"
      ],
      "execution_count": 21,
      "outputs": [
        {
          "output_type": "execute_result",
          "data": {
            "text/plain": [
              "[('Drama', 2296),\n",
              " ('Comedy', 1722),\n",
              " ('Thriller', 1274),\n",
              " ('Action', 1154),\n",
              " ('Romance', 894),\n",
              " ('Adventure', 790),\n",
              " ('Crime', 696),\n",
              " ('Science Fiction', 535),\n",
              " ('Horror', 519),\n",
              " ('Family', 513),\n",
              " ('Fantasy', 424),\n",
              " ('Mystery', 348),\n",
              " ('Animation', 234),\n",
              " ('History', 197),\n",
              " ('Music', 185),\n",
              " ('War', 144),\n",
              " ('Documentary', 108),\n",
              " ('Western', 82),\n",
              " ('Foreign', 34),\n",
              " ('TV Movie', 8)]"
            ]
          },
          "metadata": {
            "tags": []
          },
          "execution_count": 21
        }
      ]
    },
    {
      "cell_type": "code",
      "metadata": {
        "id": "2ovCxtiJ3ePr",
        "colab_type": "code",
        "colab": {}
      },
      "source": [
        "#CLASS_NAMES = list(genre_to_id.keys())\n",
        "#CLASS_COUNT == len(CLASS_NAMES), CLASS_NAMES"
      ],
      "execution_count": 0,
      "outputs": []
    },
    {
      "cell_type": "markdown",
      "metadata": {
        "id": "R0yG86oslWyA",
        "colab_type": "text"
      },
      "source": [
        "##Split dataset"
      ]
    },
    {
      "cell_type": "code",
      "metadata": {
        "id": "I4ZuGK-6jjtT",
        "colab_type": "code",
        "outputId": "d8a659b7-fe57-4ca2-c6a9-23516ccf47e6",
        "colab": {
          "base_uri": "https://localhost:8080/",
          "height": 34
        }
      },
      "source": [
        "train_split = dataset.sample(frac = 0.7,random_state=42)\n",
        "test_split = dataset.drop(train_split.index).sample(frac = 0.5)\n",
        "validation_split = dataset.drop(train_split.index).drop(test_split.index)\n",
        "\n",
        "train_split.shape, validation_split.shape, test_split.shape"
      ],
      "execution_count": 23,
      "outputs": [
        {
          "output_type": "execute_result",
          "data": {
            "text/plain": [
              "((3046, 2), (653, 2), (652, 2))"
            ]
          },
          "metadata": {
            "tags": []
          },
          "execution_count": 23
        }
      ]
    },
    {
      "cell_type": "code",
      "metadata": {
        "id": "10U9dxfJuAps",
        "colab_type": "code",
        "outputId": "d28a4931-201a-4213-8989-0c6eddf1d459",
        "colab": {
          "base_uri": "https://localhost:8080/",
          "height": 68
        }
      },
      "source": [
        "train_split.iloc[0]"
      ],
      "execution_count": 24,
      "outputs": [
        {
          "output_type": "execute_result",
          "data": {
            "text/plain": [
              "overview    The story of the first major battle of the Ame...\n",
              "genres                                        [0, 0, 0, 0, 1]\n",
              "Name: 579, dtype: object"
            ]
          },
          "metadata": {
            "tags": []
          },
          "execution_count": 24
        }
      ]
    },
    {
      "cell_type": "code",
      "metadata": {
        "id": "0TpaR7kAw_bw",
        "colab_type": "code",
        "outputId": "cfa9ac67-3deb-47a2-bf35-f215d686b0a9",
        "colab": {
          "base_uri": "https://localhost:8080/",
          "height": 34
        }
      },
      "source": [
        "train_labels = train_split['genres']\n",
        "test_labels = test_split['genres']\n",
        "validation_labels = validation_split['genres']\n",
        "train_labels.shape, test_labels.shape, validation_labels.shape"
      ],
      "execution_count": 25,
      "outputs": [
        {
          "output_type": "execute_result",
          "data": {
            "text/plain": [
              "((3046,), (652,), (653,))"
            ]
          },
          "metadata": {
            "tags": []
          },
          "execution_count": 25
        }
      ]
    },
    {
      "cell_type": "code",
      "metadata": {
        "id": "mpdn-h23xmgk",
        "colab_type": "code",
        "outputId": "e606c12c-09b5-4990-aaba-79dcf4bba4ad",
        "colab": {
          "base_uri": "https://localhost:8080/",
          "height": 51
        }
      },
      "source": [
        "train_dataset = tf.data.Dataset.from_tensor_slices((train_split['overview'], train_split['genres']))\n",
        "test_dataset = tf.data.Dataset.from_tensor_slices((test_split['overview'], test_split['genres']))\n",
        "validation_dataset = tf.data.Dataset.from_tensor_slices((validation_split['overview'], validation_split['genres']))\n",
        "train_dataset.element_spec"
      ],
      "execution_count": 26,
      "outputs": [
        {
          "output_type": "execute_result",
          "data": {
            "text/plain": [
              "(TensorSpec(shape=(), dtype=tf.string, name=None),\n",
              " TensorSpec(shape=(5,), dtype=tf.int32, name=None))"
            ]
          },
          "metadata": {
            "tags": []
          },
          "execution_count": 26
        }
      ]
    },
    {
      "cell_type": "code",
      "metadata": {
        "id": "nE-Jbb859Aa6",
        "colab_type": "code",
        "outputId": "3f2c2b6d-2390-4cba-8251-b9d7ea11ffc2",
        "colab": {
          "base_uri": "https://localhost:8080/",
          "height": 71
        }
      },
      "source": [
        "overview, genres = next(iter(train_dataset))\n",
        "overview, genres"
      ],
      "execution_count": 27,
      "outputs": [
        {
          "output_type": "execute_result",
          "data": {
            "text/plain": [
              "(<tf.Tensor: shape=(), dtype=string, numpy=b'The story of the first major battle of the American phase of the Vietnam War and the soldiers on both sides that fought it.'>,\n",
              " <tf.Tensor: shape=(5,), dtype=int32, numpy=array([0, 0, 0, 0, 1], dtype=int32)>)"
            ]
          },
          "metadata": {
            "tags": []
          },
          "execution_count": 27
        }
      ]
    },
    {
      "cell_type": "code",
      "metadata": {
        "id": "2oxLwKnr0tbl",
        "colab_type": "code",
        "colab": {}
      },
      "source": [
        "batch_size = 128\n",
        "shuffle_buffer_size = 1000"
      ],
      "execution_count": 0,
      "outputs": []
    },
    {
      "cell_type": "code",
      "metadata": {
        "id": "V_IE20b_0t0A",
        "colab_type": "code",
        "colab": {}
      },
      "source": [
        "train_dataset = train_dataset.shuffle(shuffle_buffer_size).repeat().batch(batch_size)\n",
        "validation_dataset = validation_dataset.shuffle(shuffle_buffer_size).batch(batch_size)\n",
        "test_dataset = test_dataset.shuffle(shuffle_buffer_size).batch(batch_size)"
      ],
      "execution_count": 0,
      "outputs": []
    },
    {
      "cell_type": "code",
      "metadata": {
        "id": "BcU8o1PI1zqP",
        "colab_type": "code",
        "outputId": "42d5ad7c-f164-4322-f54c-464ac2ae70ca",
        "colab": {
          "base_uri": "https://localhost:8080/",
          "height": 34
        }
      },
      "source": [
        "overview, genres = next(iter(train_dataset))\n",
        "overview.shape, genres.shape"
      ],
      "execution_count": 30,
      "outputs": [
        {
          "output_type": "execute_result",
          "data": {
            "text/plain": [
              "(TensorShape([128]), TensorShape([128, 5]))"
            ]
          },
          "metadata": {
            "tags": []
          },
          "execution_count": 30
        }
      ]
    },
    {
      "cell_type": "markdown",
      "metadata": {
        "id": "QPb7_xPxl67a",
        "colab_type": "text"
      },
      "source": [
        "#Model"
      ]
    },
    {
      "cell_type": "code",
      "metadata": {
        "id": "IzaiqVjtm8-N",
        "colab_type": "code",
        "colab": {}
      },
      "source": [
        "epochs = 20\n",
        "train_steps = 10\n",
        "validation_steps = 5"
      ],
      "execution_count": 0,
      "outputs": []
    },
    {
      "cell_type": "markdown",
      "metadata": {
        "id": "njEtRvfZecVF",
        "colab_type": "text"
      },
      "source": [
        "## Estimator"
      ]
    },
    {
      "cell_type": "code",
      "metadata": {
        "id": "NNUbLbo-ef0B",
        "colab_type": "code",
        "colab": {}
      },
      "source": [
        "description_embeddings = hub.text_embedding_column(\n",
        "    \"overview\", \n",
        "    module_spec=\"https://tfhub.dev/google/nnlm-en-dim128/1\",\n",
        "    trainable=False\n",
        ")"
      ],
      "execution_count": 0,
      "outputs": []
    },
    {
      "cell_type": "code",
      "metadata": {
        "id": "6UH8tlxrNL1e",
        "colab_type": "code",
        "outputId": "9c006937-6607-43af-8884-d971d35d9b80",
        "colab": {
          "base_uri": "https://localhost:8080/",
          "height": 343
        }
      },
      "source": [
        "estimator = tf.estimator.DNNEstimator(\n",
        "    head=tf.estimator.MultiLabelHead(CLASS_COUNT, loss_reduction=tf.losses.Reduction.SUM_OVER_BATCH_SIZE),\n",
        "    hidden_units=[64,16],\n",
        "    feature_columns=[description_embeddings]\n",
        ")"
      ],
      "execution_count": 33,
      "outputs": [
        {
          "output_type": "stream",
          "text": [
            "INFO:tensorflow:Using default config.\n"
          ],
          "name": "stdout"
        },
        {
          "output_type": "stream",
          "text": [
            "INFO:tensorflow:Using default config.\n"
          ],
          "name": "stderr"
        },
        {
          "output_type": "stream",
          "text": [
            "WARNING:tensorflow:Using temporary folder as model directory: /tmp/tmps8y7uatq\n"
          ],
          "name": "stdout"
        },
        {
          "output_type": "stream",
          "text": [
            "WARNING:tensorflow:Using temporary folder as model directory: /tmp/tmps8y7uatq\n"
          ],
          "name": "stderr"
        },
        {
          "output_type": "stream",
          "text": [
            "INFO:tensorflow:Using config: {'_model_dir': '/tmp/tmps8y7uatq', '_tf_random_seed': None, '_save_summary_steps': 100, '_save_checkpoints_steps': None, '_save_checkpoints_secs': 600, '_session_config': allow_soft_placement: true\n",
            "graph_options {\n",
            "  rewrite_options {\n",
            "    meta_optimizer_iterations: ONE\n",
            "  }\n",
            "}\n",
            ", '_keep_checkpoint_max': 5, '_keep_checkpoint_every_n_hours': 10000, '_log_step_count_steps': 100, '_train_distribute': None, '_device_fn': None, '_protocol': None, '_eval_distribute': None, '_experimental_distribute': None, '_experimental_max_worker_delay_secs': None, '_session_creation_timeout_secs': 7200, '_service': None, '_cluster_spec': ClusterSpec({}), '_task_type': 'worker', '_task_id': 0, '_global_id_in_cluster': 0, '_master': '', '_evaluation_master': '', '_is_chief': True, '_num_ps_replicas': 0, '_num_worker_replicas': 1}\n"
          ],
          "name": "stdout"
        },
        {
          "output_type": "stream",
          "text": [
            "INFO:tensorflow:Using config: {'_model_dir': '/tmp/tmps8y7uatq', '_tf_random_seed': None, '_save_summary_steps': 100, '_save_checkpoints_steps': None, '_save_checkpoints_secs': 600, '_session_config': allow_soft_placement: true\n",
            "graph_options {\n",
            "  rewrite_options {\n",
            "    meta_optimizer_iterations: ONE\n",
            "  }\n",
            "}\n",
            ", '_keep_checkpoint_max': 5, '_keep_checkpoint_every_n_hours': 10000, '_log_step_count_steps': 100, '_train_distribute': None, '_device_fn': None, '_protocol': None, '_eval_distribute': None, '_experimental_distribute': None, '_experimental_max_worker_delay_secs': None, '_session_creation_timeout_secs': 7200, '_service': None, '_cluster_spec': ClusterSpec({}), '_task_type': 'worker', '_task_id': 0, '_global_id_in_cluster': 0, '_master': '', '_evaluation_master': '', '_is_chief': True, '_num_ps_replicas': 0, '_num_worker_replicas': 1}\n"
          ],
          "name": "stderr"
        }
      ]
    },
    {
      "cell_type": "code",
      "metadata": {
        "id": "5_Owmvw2LBMd",
        "colab_type": "code",
        "colab": {}
      },
      "source": [
        "def input_fn(features, labels=None, training=True, batch_size=batch_size):\n",
        "  inputs = {\n",
        "    \"overview\": np.array(features)\n",
        "  }\n",
        "\n",
        "  if labels is not None:\n",
        "    inputs = (inputs, np.array(labels.tolist()))  \n",
        "  \n",
        "  dataset = tf.data.Dataset.from_tensor_slices(inputs)\n",
        "\n",
        "  if training:\n",
        "      dataset = dataset.shuffle(shuffle_buffer_size).repeat()\n",
        "  \n",
        "  return dataset.batch(batch_size)"
      ],
      "execution_count": 0,
      "outputs": []
    },
    {
      "cell_type": "code",
      "metadata": {
        "id": "_qzsYu5DsYjn",
        "colab_type": "code",
        "outputId": "f0060703-0de8-4ba1-bab6-9d8b8ac2a198",
        "colab": {
          "base_uri": "https://localhost:8080/",
          "height": 734
        }
      },
      "source": [
        "estimator.train(\n",
        "    input_fn=lambda: input_fn(train_split['overview'], train_split['genres'], batch_size=32),\n",
        "    steps=epochs)"
      ],
      "execution_count": 35,
      "outputs": [
        {
          "output_type": "stream",
          "text": [
            "WARNING:tensorflow:From /tensorflow-2.1.0/python3.6/tensorflow_core/python/ops/resource_variable_ops.py:1635: calling BaseResourceVariable.__init__ (from tensorflow.python.ops.resource_variable_ops) with constraint is deprecated and will be removed in a future version.\n",
            "Instructions for updating:\n",
            "If using Keras pass *_constraint arguments to layers.\n"
          ],
          "name": "stdout"
        },
        {
          "output_type": "stream",
          "text": [
            "WARNING:tensorflow:From /tensorflow-2.1.0/python3.6/tensorflow_core/python/ops/resource_variable_ops.py:1635: calling BaseResourceVariable.__init__ (from tensorflow.python.ops.resource_variable_ops) with constraint is deprecated and will be removed in a future version.\n",
            "Instructions for updating:\n",
            "If using Keras pass *_constraint arguments to layers.\n"
          ],
          "name": "stderr"
        },
        {
          "output_type": "stream",
          "text": [
            "WARNING:tensorflow:From /tensorflow-2.1.0/python3.6/tensorflow_core/python/training/training_util.py:236: Variable.initialized_value (from tensorflow.python.ops.variables) is deprecated and will be removed in a future version.\n",
            "Instructions for updating:\n",
            "Use Variable.read_value. Variables in 2.X are initialized automatically both in eager and graph (inside tf.defun) contexts.\n"
          ],
          "name": "stdout"
        },
        {
          "output_type": "stream",
          "text": [
            "WARNING:tensorflow:From /tensorflow-2.1.0/python3.6/tensorflow_core/python/training/training_util.py:236: Variable.initialized_value (from tensorflow.python.ops.variables) is deprecated and will be removed in a future version.\n",
            "Instructions for updating:\n",
            "Use Variable.read_value. Variables in 2.X are initialized automatically both in eager and graph (inside tf.defun) contexts.\n"
          ],
          "name": "stderr"
        },
        {
          "output_type": "stream",
          "text": [
            "INFO:tensorflow:Calling model_fn.\n"
          ],
          "name": "stdout"
        },
        {
          "output_type": "stream",
          "text": [
            "INFO:tensorflow:Calling model_fn.\n"
          ],
          "name": "stderr"
        },
        {
          "output_type": "stream",
          "text": [
            "INFO:tensorflow:Saver not created because there are no variables in the graph to restore\n"
          ],
          "name": "stdout"
        },
        {
          "output_type": "stream",
          "text": [
            "INFO:tensorflow:Saver not created because there are no variables in the graph to restore\n"
          ],
          "name": "stderr"
        },
        {
          "output_type": "stream",
          "text": [
            "WARNING:tensorflow:From /tensorflow-2.1.0/python3.6/tensorflow_core/python/keras/optimizer_v2/adagrad.py:103: calling Constant.__init__ (from tensorflow.python.ops.init_ops) with dtype is deprecated and will be removed in a future version.\n",
            "Instructions for updating:\n",
            "Call initializer instance with the dtype argument instead of passing it to the constructor\n"
          ],
          "name": "stdout"
        },
        {
          "output_type": "stream",
          "text": [
            "WARNING:tensorflow:From /tensorflow-2.1.0/python3.6/tensorflow_core/python/keras/optimizer_v2/adagrad.py:103: calling Constant.__init__ (from tensorflow.python.ops.init_ops) with dtype is deprecated and will be removed in a future version.\n",
            "Instructions for updating:\n",
            "Call initializer instance with the dtype argument instead of passing it to the constructor\n"
          ],
          "name": "stderr"
        },
        {
          "output_type": "stream",
          "text": [
            "INFO:tensorflow:Done calling model_fn.\n"
          ],
          "name": "stdout"
        },
        {
          "output_type": "stream",
          "text": [
            "INFO:tensorflow:Done calling model_fn.\n"
          ],
          "name": "stderr"
        },
        {
          "output_type": "stream",
          "text": [
            "INFO:tensorflow:Create CheckpointSaverHook.\n"
          ],
          "name": "stdout"
        },
        {
          "output_type": "stream",
          "text": [
            "INFO:tensorflow:Create CheckpointSaverHook.\n"
          ],
          "name": "stderr"
        },
        {
          "output_type": "stream",
          "text": [
            "INFO:tensorflow:Graph was finalized.\n"
          ],
          "name": "stdout"
        },
        {
          "output_type": "stream",
          "text": [
            "INFO:tensorflow:Graph was finalized.\n"
          ],
          "name": "stderr"
        },
        {
          "output_type": "stream",
          "text": [
            "INFO:tensorflow:Running local_init_op.\n"
          ],
          "name": "stdout"
        },
        {
          "output_type": "stream",
          "text": [
            "INFO:tensorflow:Running local_init_op.\n"
          ],
          "name": "stderr"
        },
        {
          "output_type": "stream",
          "text": [
            "INFO:tensorflow:Done running local_init_op.\n"
          ],
          "name": "stdout"
        },
        {
          "output_type": "stream",
          "text": [
            "INFO:tensorflow:Done running local_init_op.\n"
          ],
          "name": "stderr"
        },
        {
          "output_type": "stream",
          "text": [
            "INFO:tensorflow:Saving checkpoints for 0 into /tmp/tmps8y7uatq/model.ckpt.\n"
          ],
          "name": "stdout"
        },
        {
          "output_type": "stream",
          "text": [
            "INFO:tensorflow:Saving checkpoints for 0 into /tmp/tmps8y7uatq/model.ckpt.\n"
          ],
          "name": "stderr"
        },
        {
          "output_type": "stream",
          "text": [
            "INFO:tensorflow:loss = 0.72029483, step = 0\n"
          ],
          "name": "stdout"
        },
        {
          "output_type": "stream",
          "text": [
            "INFO:tensorflow:loss = 0.72029483, step = 0\n"
          ],
          "name": "stderr"
        },
        {
          "output_type": "stream",
          "text": [
            "INFO:tensorflow:Saving checkpoints for 20 into /tmp/tmps8y7uatq/model.ckpt.\n"
          ],
          "name": "stdout"
        },
        {
          "output_type": "stream",
          "text": [
            "INFO:tensorflow:Saving checkpoints for 20 into /tmp/tmps8y7uatq/model.ckpt.\n"
          ],
          "name": "stderr"
        },
        {
          "output_type": "stream",
          "text": [
            "INFO:tensorflow:Loss for final step: 0.70479524.\n"
          ],
          "name": "stdout"
        },
        {
          "output_type": "stream",
          "text": [
            "INFO:tensorflow:Loss for final step: 0.70479524.\n"
          ],
          "name": "stderr"
        },
        {
          "output_type": "execute_result",
          "data": {
            "text/plain": [
              "<tensorflow_estimator.python.estimator.canned.dnn.DNNEstimatorV2 at 0x7f899cd9dc18>"
            ]
          },
          "metadata": {
            "tags": []
          },
          "execution_count": 35
        }
      ]
    },
    {
      "cell_type": "code",
      "metadata": {
        "id": "B9cO1_kJSQyC",
        "colab_type": "code",
        "outputId": "1aca66e8-6073-4bf7-c895-863fa45ebb92",
        "colab": {
          "base_uri": "https://localhost:8080/",
          "height": 530
        }
      },
      "source": [
        "metrics = estimator.evaluate(\n",
        "    input_fn=lambda: input_fn(test_split['overview'], test_split['genres'], training=False))\n",
        "metrics"
      ],
      "execution_count": 36,
      "outputs": [
        {
          "output_type": "stream",
          "text": [
            "INFO:tensorflow:Calling model_fn.\n"
          ],
          "name": "stdout"
        },
        {
          "output_type": "stream",
          "text": [
            "INFO:tensorflow:Calling model_fn.\n"
          ],
          "name": "stderr"
        },
        {
          "output_type": "stream",
          "text": [
            "INFO:tensorflow:Saver not created because there are no variables in the graph to restore\n"
          ],
          "name": "stdout"
        },
        {
          "output_type": "stream",
          "text": [
            "INFO:tensorflow:Saver not created because there are no variables in the graph to restore\n"
          ],
          "name": "stderr"
        },
        {
          "output_type": "stream",
          "text": [
            "INFO:tensorflow:Done calling model_fn.\n"
          ],
          "name": "stdout"
        },
        {
          "output_type": "stream",
          "text": [
            "INFO:tensorflow:Done calling model_fn.\n"
          ],
          "name": "stderr"
        },
        {
          "output_type": "stream",
          "text": [
            "INFO:tensorflow:Starting evaluation at 2020-02-03T02:03:27Z\n"
          ],
          "name": "stdout"
        },
        {
          "output_type": "stream",
          "text": [
            "INFO:tensorflow:Starting evaluation at 2020-02-03T02:03:27Z\n"
          ],
          "name": "stderr"
        },
        {
          "output_type": "stream",
          "text": [
            "INFO:tensorflow:Graph was finalized.\n"
          ],
          "name": "stdout"
        },
        {
          "output_type": "stream",
          "text": [
            "INFO:tensorflow:Graph was finalized.\n"
          ],
          "name": "stderr"
        },
        {
          "output_type": "stream",
          "text": [
            "INFO:tensorflow:Restoring parameters from /tmp/tmps8y7uatq/model.ckpt-20\n"
          ],
          "name": "stdout"
        },
        {
          "output_type": "stream",
          "text": [
            "INFO:tensorflow:Restoring parameters from /tmp/tmps8y7uatq/model.ckpt-20\n"
          ],
          "name": "stderr"
        },
        {
          "output_type": "stream",
          "text": [
            "INFO:tensorflow:Running local_init_op.\n"
          ],
          "name": "stdout"
        },
        {
          "output_type": "stream",
          "text": [
            "INFO:tensorflow:Running local_init_op.\n"
          ],
          "name": "stderr"
        },
        {
          "output_type": "stream",
          "text": [
            "INFO:tensorflow:Done running local_init_op.\n"
          ],
          "name": "stdout"
        },
        {
          "output_type": "stream",
          "text": [
            "INFO:tensorflow:Done running local_init_op.\n"
          ],
          "name": "stderr"
        },
        {
          "output_type": "stream",
          "text": [
            "INFO:tensorflow:Inference Time : 1.96227s\n"
          ],
          "name": "stdout"
        },
        {
          "output_type": "stream",
          "text": [
            "INFO:tensorflow:Inference Time : 1.96227s\n"
          ],
          "name": "stderr"
        },
        {
          "output_type": "stream",
          "text": [
            "INFO:tensorflow:Finished evaluation at 2020-02-03-02:03:29\n"
          ],
          "name": "stdout"
        },
        {
          "output_type": "stream",
          "text": [
            "INFO:tensorflow:Finished evaluation at 2020-02-03-02:03:29\n"
          ],
          "name": "stderr"
        },
        {
          "output_type": "stream",
          "text": [
            "INFO:tensorflow:Saving dict for global step 20: auc = 0.3967083, auc_precision_recall = 0.288829, average_loss = 0.7091354, global_step = 20, loss = 0.70688206\n"
          ],
          "name": "stdout"
        },
        {
          "output_type": "stream",
          "text": [
            "INFO:tensorflow:Saving dict for global step 20: auc = 0.3967083, auc_precision_recall = 0.288829, average_loss = 0.7091354, global_step = 20, loss = 0.70688206\n"
          ],
          "name": "stderr"
        },
        {
          "output_type": "stream",
          "text": [
            "INFO:tensorflow:Saving 'checkpoint_path' summary for global step 20: /tmp/tmps8y7uatq/model.ckpt-20\n"
          ],
          "name": "stdout"
        },
        {
          "output_type": "stream",
          "text": [
            "INFO:tensorflow:Saving 'checkpoint_path' summary for global step 20: /tmp/tmps8y7uatq/model.ckpt-20\n"
          ],
          "name": "stderr"
        },
        {
          "output_type": "execute_result",
          "data": {
            "text/plain": [
              "{'auc': 0.3967083,\n",
              " 'auc_precision_recall': 0.288829,\n",
              " 'average_loss': 0.7091354,\n",
              " 'global_step': 20,\n",
              " 'loss': 0.70688206}"
            ]
          },
          "metadata": {
            "tags": []
          },
          "execution_count": 36
        }
      ]
    },
    {
      "cell_type": "code",
      "metadata": {
        "id": "fghoXkDcSzjj",
        "colab_type": "code",
        "colab": {}
      },
      "source": [
        "test_input = \"The Imperial Forces -- under orders from cruel Darth Vader (David Prowse) -- hold Princess Leia (Carrie Fisher) hostage, in their efforts to quell the rebellion against the Galactic Empire. Luke Skywalker (Mark Hamill) and Han Solo (Harrison Ford), captain of the Millennium Falcon, work together with the companionable droid duo R2-D2 (Kenny Baker) and C-3PO (Anthony Daniels) to rescue the beautiful princess, help the Rebel Alliance, and restore freedom and justice to the Galaxy.\"\n",
        "predictions = estimator.predict(\n",
        "    input_fn=lambda: input_fn([test_input], training=False, batch_size=1)\n",
        ")"
      ],
      "execution_count": 0,
      "outputs": []
    },
    {
      "cell_type": "code",
      "metadata": {
        "id": "xZDqA3ztS2ms",
        "colab_type": "code",
        "outputId": "bdc6998f-5717-4dd9-b2d1-05709367da71",
        "colab": {
          "base_uri": "https://localhost:8080/",
          "height": 323
        }
      },
      "source": [
        "predicted_labels = \"\"\n",
        "for prediction in predictions:  \n",
        "  for i in prediction['probabilities'].argsort()[-3:][::-1]:\n",
        "    predicted_labels += CLASS_NAMES[i] + \" (\" + str(np.around(prediction['probabilities'][i], decimals=3)) + \")\\n\"\n",
        "    \n",
        "print(predicted_labels)"
      ],
      "execution_count": 38,
      "outputs": [
        {
          "output_type": "stream",
          "text": [
            "INFO:tensorflow:Calling model_fn.\n"
          ],
          "name": "stdout"
        },
        {
          "output_type": "stream",
          "text": [
            "INFO:tensorflow:Calling model_fn.\n"
          ],
          "name": "stderr"
        },
        {
          "output_type": "stream",
          "text": [
            "INFO:tensorflow:Saver not created because there are no variables in the graph to restore\n"
          ],
          "name": "stdout"
        },
        {
          "output_type": "stream",
          "text": [
            "INFO:tensorflow:Saver not created because there are no variables in the graph to restore\n"
          ],
          "name": "stderr"
        },
        {
          "output_type": "stream",
          "text": [
            "INFO:tensorflow:Done calling model_fn.\n"
          ],
          "name": "stdout"
        },
        {
          "output_type": "stream",
          "text": [
            "INFO:tensorflow:Done calling model_fn.\n"
          ],
          "name": "stderr"
        },
        {
          "output_type": "stream",
          "text": [
            "INFO:tensorflow:Graph was finalized.\n"
          ],
          "name": "stdout"
        },
        {
          "output_type": "stream",
          "text": [
            "INFO:tensorflow:Graph was finalized.\n"
          ],
          "name": "stderr"
        },
        {
          "output_type": "stream",
          "text": [
            "INFO:tensorflow:Restoring parameters from /tmp/tmps8y7uatq/model.ckpt-20\n"
          ],
          "name": "stdout"
        },
        {
          "output_type": "stream",
          "text": [
            "INFO:tensorflow:Restoring parameters from /tmp/tmps8y7uatq/model.ckpt-20\n"
          ],
          "name": "stderr"
        },
        {
          "output_type": "stream",
          "text": [
            "INFO:tensorflow:Running local_init_op.\n"
          ],
          "name": "stdout"
        },
        {
          "output_type": "stream",
          "text": [
            "INFO:tensorflow:Running local_init_op.\n"
          ],
          "name": "stderr"
        },
        {
          "output_type": "stream",
          "text": [
            "INFO:tensorflow:Done running local_init_op.\n"
          ],
          "name": "stdout"
        },
        {
          "output_type": "stream",
          "text": [
            "INFO:tensorflow:Done running local_init_op.\n"
          ],
          "name": "stderr"
        },
        {
          "output_type": "stream",
          "text": [
            "Action (0.549)\n",
            "Thriller (0.496)\n",
            "Comedy (0.481)\n",
            "\n"
          ],
          "name": "stdout"
        }
      ]
    },
    {
      "cell_type": "markdown",
      "metadata": {
        "id": "rtHXg8S1iNVP",
        "colab_type": "text"
      },
      "source": [
        "\n",
        "##Keras Layer\n"
      ]
    },
    {
      "cell_type": "code",
      "metadata": {
        "id": "dKAWI-WC4Sw8",
        "colab_type": "code",
        "colab": {}
      },
      "source": [
        "hub_layer = hub.KerasLayer(\"https://tfhub.dev/google/tf2-preview/nnlm-en-dim128/1\", \n",
        "                           output_shape=[128], input_shape=[], dtype=tf.string)"
      ],
      "execution_count": 0,
      "outputs": []
    },
    {
      "cell_type": "code",
      "metadata": {
        "id": "euwu7-oupkpa",
        "colab_type": "code",
        "outputId": "413d822d-f41d-44ea-fbcf-32aa386e36df",
        "colab": {
          "base_uri": "https://localhost:8080/",
          "height": 255
        }
      },
      "source": [
        "model = Sequential([\n",
        "    hub_layer,\n",
        "    Dense(128, activation='relu'),  \n",
        "    Dense(CLASS_COUNT, activation='sigmoid'),\n",
        "])\n",
        "\n",
        "model.summary()"
      ],
      "execution_count": 40,
      "outputs": [
        {
          "output_type": "stream",
          "text": [
            "Model: \"sequential\"\n",
            "_________________________________________________________________\n",
            "Layer (type)                 Output Shape              Param #   \n",
            "=================================================================\n",
            "keras_layer (KerasLayer)     (None, 128)               124642688 \n",
            "_________________________________________________________________\n",
            "dense (Dense)                (None, 128)               16512     \n",
            "_________________________________________________________________\n",
            "dense_1 (Dense)              (None, 5)                 645       \n",
            "=================================================================\n",
            "Total params: 124,659,845\n",
            "Trainable params: 17,157\n",
            "Non-trainable params: 124,642,688\n",
            "_________________________________________________________________\n"
          ],
          "name": "stdout"
        }
      ]
    },
    {
      "cell_type": "code",
      "metadata": {
        "id": "7WsiWgi_iRj1",
        "colab_type": "code",
        "colab": {}
      },
      "source": [
        "model.compile(optimizer='adam',\n",
        "              loss='binary_crossentropy',\n",
        "              metrics=['accuracy'])"
      ],
      "execution_count": 0,
      "outputs": []
    },
    {
      "cell_type": "code",
      "metadata": {
        "id": "sAAfNawPiS_b",
        "colab_type": "code",
        "outputId": "c6228a1e-7131-4fcd-bad5-e0124f3fc0ea",
        "colab": {
          "base_uri": "https://localhost:8080/",
          "height": 714
        }
      },
      "source": [
        "history = model.fit(train_dataset,\n",
        "                    epochs=epochs,\n",
        "                    steps_per_epoch=train_steps,\n",
        "                    validation_data=validation_dataset,\n",
        "                    validation_steps=validation_steps\n",
        "                   )         "
      ],
      "execution_count": 42,
      "outputs": [
        {
          "output_type": "stream",
          "text": [
            "Train for 10 steps, validate for 5 steps\n",
            "Epoch 1/20\n",
            "10/10 [==============================] - 3s 284ms/step - loss: 0.6799 - accuracy: 0.5827 - val_loss: 0.6565 - val_accuracy: 0.6697\n",
            "Epoch 2/20\n",
            "10/10 [==============================] - 3s 252ms/step - loss: 0.6414 - accuracy: 0.6823 - val_loss: 0.6237 - val_accuracy: 0.6781\n",
            "Epoch 3/20\n",
            "10/10 [==============================] - 3s 255ms/step - loss: 0.6124 - accuracy: 0.6856 - val_loss: 0.6024 - val_accuracy: 0.6847\n",
            "Epoch 4/20\n",
            "10/10 [==============================] - 3s 253ms/step - loss: 0.5910 - accuracy: 0.6992 - val_loss: 0.5915 - val_accuracy: 0.6956\n",
            "Epoch 5/20\n",
            "10/10 [==============================] - 3s 253ms/step - loss: 0.5876 - accuracy: 0.6967 - val_loss: 0.5832 - val_accuracy: 0.6938\n",
            "Epoch 6/20\n",
            "10/10 [==============================] - 3s 250ms/step - loss: 0.5682 - accuracy: 0.7131 - val_loss: 0.5735 - val_accuracy: 0.6969\n",
            "Epoch 7/20\n",
            "10/10 [==============================] - 3s 251ms/step - loss: 0.5740 - accuracy: 0.6988 - val_loss: 0.5624 - val_accuracy: 0.7097\n",
            "Epoch 8/20\n",
            "10/10 [==============================] - 3s 252ms/step - loss: 0.5572 - accuracy: 0.7155 - val_loss: 0.5521 - val_accuracy: 0.7134\n",
            "Epoch 9/20\n",
            "10/10 [==============================] - 3s 256ms/step - loss: 0.5420 - accuracy: 0.7275 - val_loss: 0.5438 - val_accuracy: 0.7156\n",
            "Epoch 10/20\n",
            "10/10 [==============================] - 3s 253ms/step - loss: 0.5404 - accuracy: 0.7278 - val_loss: 0.5335 - val_accuracy: 0.7334\n",
            "Epoch 11/20\n",
            "10/10 [==============================] - 3s 260ms/step - loss: 0.5253 - accuracy: 0.7478 - val_loss: 0.5272 - val_accuracy: 0.7331\n",
            "Epoch 12/20\n",
            "10/10 [==============================] - 3s 252ms/step - loss: 0.5186 - accuracy: 0.7408 - val_loss: 0.5194 - val_accuracy: 0.7444\n",
            "Epoch 13/20\n",
            "10/10 [==============================] - 2s 249ms/step - loss: 0.5058 - accuracy: 0.7548 - val_loss: 0.5116 - val_accuracy: 0.7500\n",
            "Epoch 14/20\n",
            "10/10 [==============================] - 3s 250ms/step - loss: 0.5142 - accuracy: 0.7431 - val_loss: 0.5064 - val_accuracy: 0.7556\n",
            "Epoch 15/20\n",
            "10/10 [==============================] - 3s 254ms/step - loss: 0.4978 - accuracy: 0.7539 - val_loss: 0.5030 - val_accuracy: 0.7572\n",
            "Epoch 16/20\n",
            "10/10 [==============================] - 3s 251ms/step - loss: 0.4972 - accuracy: 0.7572 - val_loss: 0.5005 - val_accuracy: 0.7516\n",
            "Epoch 17/20\n",
            "10/10 [==============================] - 2s 246ms/step - loss: 0.4914 - accuracy: 0.7602 - val_loss: 0.4995 - val_accuracy: 0.7588\n",
            "Epoch 18/20\n",
            "10/10 [==============================] - 3s 251ms/step - loss: 0.4874 - accuracy: 0.7708 - val_loss: 0.4937 - val_accuracy: 0.7625\n",
            "Epoch 19/20\n",
            "10/10 [==============================] - 3s 254ms/step - loss: 0.4872 - accuracy: 0.7552 - val_loss: 0.4930 - val_accuracy: 0.7609\n",
            "Epoch 20/20\n",
            "10/10 [==============================] - 3s 253ms/step - loss: 0.4897 - accuracy: 0.7639 - val_loss: 0.4919 - val_accuracy: 0.7603\n"
          ],
          "name": "stdout"
        }
      ]
    },
    {
      "cell_type": "markdown",
      "metadata": {
        "id": "zs2V4e6inJZw",
        "colab_type": "text"
      },
      "source": [
        "###Validation"
      ]
    },
    {
      "cell_type": "code",
      "metadata": {
        "colab_type": "code",
        "id": "QMhJ3MhmnLI6",
        "outputId": "6f8fe1dd-3e87-4542-9908-ace1a0b90ef2",
        "colab": {
          "base_uri": "https://localhost:8080/",
          "height": 621
        }
      },
      "source": [
        "acc = history.history['accuracy']\n",
        "val_acc = history.history['val_accuracy']\n",
        "\n",
        "loss = history.history['loss']\n",
        "val_loss = history.history['val_loss']\n",
        "\n",
        "plt.figure(figsize=(10, 10))\n",
        "plt.subplot(2, 1, 1)\n",
        "plt.plot(acc, label='Training Accuracy')\n",
        "plt.plot(val_acc, label='Validation Accuracy')\n",
        "plt.legend(loc='lower right')\n",
        "plt.setp(plt.legend().get_texts(), color='black')\n",
        "plt.ylabel('Accuracy')\n",
        "plt.ylim([min(plt.ylim()),1.0])\n",
        "plt.title('Training and Validation Accuracy')\n",
        "\n",
        "plt.subplot(2, 1, 2)\n",
        "plt.plot(loss, label='Training Loss')\n",
        "plt.plot(val_loss, label='Validation Loss')\n",
        "plt.legend(loc='upper right')\n",
        "plt.setp(plt.legend().get_texts(), color='black')\n",
        "plt.ylabel('Cross Entropy')\n",
        "plt.ylim([0.0,1.0])\n",
        "plt.title('Training and Validation Loss')\n",
        "plt.xlabel('epoch')\n",
        "plt.show()"
      ],
      "execution_count": 43,
      "outputs": [
        {
          "output_type": "display_data",
          "data": {
            "image/png": "[encoded data removed]",
            "text/plain": [
              "<Figure size 720x720 with 2 Axes>"
            ]
          },
          "metadata": {
            "tags": []
          }
        }
      ]
    },
    {
      "cell_type": "code",
      "metadata": {
        "colab_type": "code",
        "id": "uRqf5dT0nLJH",
        "outputId": "54ed3594-2145-4be7-8f9e-9e43b363e018",
        "colab": {
          "base_uri": "https://localhost:8080/",
          "height": 51
        }
      },
      "source": [
        "test_loss, test_acc = model.evaluate(test_dataset, verbose=3)\n",
        "\n",
        "print('Loss:', test_loss)\n",
        "print('Accuracy:', test_acc)"
      ],
      "execution_count": 44,
      "outputs": [
        {
          "output_type": "stream",
          "text": [
            "Loss: 0.5039939930041631\n",
            "Accuracy: 0.75613505\n"
          ],
          "name": "stdout"
        }
      ]
    },
    {
      "cell_type": "code",
      "metadata": {
        "id": "23RHSycPuVLC",
        "colab_type": "code",
        "outputId": "51895554-ef20-4a69-89cf-72cd12bf8a36",
        "colab": {
          "base_uri": "https://localhost:8080/",
          "height": 156
        }
      },
      "source": [
        "features, labels = next(iter(test_dataset))\n",
        "\n",
        "test_index = np.random.randint(features.shape[0])\n",
        "test_input = features[test_index]\n",
        "test_label = labels[test_index]\n",
        "predictions = model.predict(tf.expand_dims(test_input, axis=0))\n",
        "\n",
        "expected_labels = np.array(CLASS_NAMES)[np.argwhere(test_label == 1)].flatten()\n",
        "\n",
        "predicted_labels = \"\"\n",
        "for i in (-predictions[0]).argsort()[:2]:\n",
        "  predicted_labels += CLASS_NAMES[i] + \" (\" + str(np.around(predictions[0][i], decimals=2)) + \")\\n\"\n",
        "\n",
        "print('Input',test_input)\n",
        "print('Expected labels',expected_labels)\n",
        "print('\\nTop 2 predicted labels are:\\n', predicted_labels)"
      ],
      "execution_count": 45,
      "outputs": [
        {
          "output_type": "stream",
          "text": [
            "Input tf.Tensor(b\"Eight-year-old Kevin McCallister makes the most of the situation after his family unwittingly leaves him behind when they go on Christmas vacation. But when a pair of bungling burglars set their sights on Kevin's house, the plucky kid stands ready to defend his territory. By planting booby traps galore, adorably mischievous Kevin stands his ground as his frantic mother attempts to race home before.\", shape=(), dtype=string)\n",
            "Expected labels ['Comedy']\n",
            "\n",
            "Top 2 predicted labels are:\n",
            " Comedy (0.59)\n",
            "Thriller (0.34)\n",
            "\n"
          ],
          "name": "stdout"
        }
      ]
    },
    {
      "cell_type": "code",
      "metadata": {
        "colab_type": "code",
        "id": "JN-lyIt7nLJX",
        "outputId": "dea745a8-61bd-4e7f-a559-573bc6fa7128",
        "colab": {
          "base_uri": "https://localhost:8080/",
          "height": 102
        }
      },
      "source": [
        "test_input = \"The Imperial Forces -- under orders from cruel Darth Vader (David Prowse) -- hold Princess Leia (Carrie Fisher) hostage, in their efforts to quell the rebellion against the Galactic Empire. Luke Skywalker (Mark Hamill) and Han Solo (Harrison Ford), captain of the Millennium Falcon, work together with the companionable droid duo R2-D2 (Kenny Baker) and C-3PO (Anthony Daniels) to rescue the beautiful princess, help the Rebel Alliance, and restore freedom and justice to the Galaxy.\"\n",
        "predictions = model.predict(tf.expand_dims(test_input, axis=0))\n",
        "predicted_labels = \"\"\n",
        "for i in (-predictions[0]).argsort()[:2]:\n",
        "  predicted_labels += CLASS_NAMES[i] + \" (\" + str(np.around(predictions[0][i], decimals=2)) + \")\\n\"\n",
        "\n",
        "print('\\nTop 2 predicted labels are:\\n', predicted_labels)"
      ],
      "execution_count": 46,
      "outputs": [
        {
          "output_type": "stream",
          "text": [
            "\n",
            "Top 2 predicted labels are:\n",
            " Action (0.87)\n",
            "Comedy (0.26)\n",
            "\n"
          ],
          "name": "stdout"
        }
      ]
    },
    {
      "cell_type": "markdown",
      "metadata": {
        "id": "1Q9V4HIMmU72",
        "colab_type": "text"
      },
      "source": [
        "##Embedding layer"
      ]
    },
    {
      "cell_type": "markdown",
      "metadata": {
        "id": "XvZPLLNBWKVF",
        "colab_type": "text"
      },
      "source": [
        "### Process text"
      ]
    },
    {
      "cell_type": "code",
      "metadata": {
        "id": "BcyOuYHRY34Z",
        "colab_type": "code",
        "colab": {}
      },
      "source": [
        "def preprocess_text(sen):\n",
        "    sentence = re.sub('[^a-zA-Z]', ' ', sen)\n",
        "    sentence = re.sub(r\"\\s+[a-zA-Z]\\s+\", ' ', sentence)\n",
        "    sentence = re.sub(r'\\s+', ' ', sentence)\n",
        "\n",
        "    return sentence"
      ],
      "execution_count": 0,
      "outputs": []
    },
    {
      "cell_type": "code",
      "metadata": {
        "id": "MHtRfWtpu5XJ",
        "colab_type": "code",
        "outputId": "85e68ab3-eb18-43b8-d431-89f2d5ea8b9e",
        "colab": {
          "base_uri": "https://localhost:8080/",
          "height": 68
        }
      },
      "source": [
        "train_split.iloc[0]"
      ],
      "execution_count": 48,
      "outputs": [
        {
          "output_type": "execute_result",
          "data": {
            "text/plain": [
              "overview    The story of the first major battle of the Ame...\n",
              "genres                                        [0, 0, 0, 0, 1]\n",
              "Name: 579, dtype: object"
            ]
          },
          "metadata": {
            "tags": []
          },
          "execution_count": 48
        }
      ]
    },
    {
      "cell_type": "code",
      "metadata": {
        "id": "MmLIrxGduuc5",
        "colab_type": "code",
        "colab": {}
      },
      "source": [
        "train_split_processed = train_split['overview'].apply(lambda x: preprocess_text(x))\n",
        "test_split_processed = test_split['overview'].apply(lambda x: preprocess_text(x))\n",
        "validation_split_processed = validation_split['overview'].apply(lambda x: preprocess_text(x))\n"
      ],
      "execution_count": 0,
      "outputs": []
    },
    {
      "cell_type": "code",
      "metadata": {
        "id": "4WTz2D1deAT8",
        "colab_type": "code",
        "outputId": "25f5d25b-4b5b-489c-c66b-145e8878592e",
        "colab": {
          "base_uri": "https://localhost:8080/",
          "height": 34
        }
      },
      "source": [
        "max_len = train_split_processed.map(lambda x: len(x)).max()\n",
        "max_len"
      ],
      "execution_count": 50,
      "outputs": [
        {
          "output_type": "execute_result",
          "data": {
            "text/plain": [
              "974"
            ]
          },
          "metadata": {
            "tags": []
          },
          "execution_count": 50
        }
      ]
    },
    {
      "cell_type": "code",
      "metadata": {
        "id": "f77xp6aDWLoT",
        "colab_type": "code",
        "outputId": "45ffa045-3123-4ed4-94c7-3c4133ce1e77",
        "colab": {
          "base_uri": "https://localhost:8080/",
          "height": 34
        }
      },
      "source": [
        "tokenizer = Tokenizer()\n",
        "tokenizer.fit_on_texts(train_split_processed)\n",
        "train_sequences = tokenizer.texts_to_sequences(train_split_processed)\n",
        "train_data = pad_sequences(train_sequences, maxlen=max_len, padding='post')\n",
        "\n",
        "test_sequences = tokenizer.texts_to_sequences(test_split_processed)\n",
        "test_data  = pad_sequences(test_sequences, maxlen=max_len, padding='post')\n",
        "\n",
        "validation_sequences = tokenizer.texts_to_sequences(validation_split_processed)\n",
        "validation_data  = pad_sequences(validation_sequences, maxlen=max_len, padding='post')\n",
        "\n",
        "train_data.shape, test_data.shape, validation_data.shape"
      ],
      "execution_count": 51,
      "outputs": [
        {
          "output_type": "execute_result",
          "data": {
            "text/plain": [
              "((3046, 974), (652, 974), (653, 974))"
            ]
          },
          "metadata": {
            "tags": []
          },
          "execution_count": 51
        }
      ]
    },
    {
      "cell_type": "code",
      "metadata": {
        "id": "uhYYTvbswitE",
        "colab_type": "code",
        "outputId": "56acdcab-66de-46f4-bb9b-099400140e13",
        "colab": {
          "base_uri": "https://localhost:8080/",
          "height": 34
        }
      },
      "source": [
        "reverse_word_map = dict(map(reversed, tokenizer.word_index.items()))\n",
        "vocab_size = len(tokenizer.word_index) + 1\n",
        "vocab_size"
      ],
      "execution_count": 52,
      "outputs": [
        {
          "output_type": "execute_result",
          "data": {
            "text/plain": [
              "16478"
            ]
          },
          "metadata": {
            "tags": []
          },
          "execution_count": 52
        }
      ]
    },
    {
      "cell_type": "markdown",
      "metadata": {
        "id": "Ww_ugYuU01YZ",
        "colab_type": "text"
      },
      "source": [
        "###Re-build dataset"
      ]
    },
    {
      "cell_type": "code",
      "metadata": {
        "colab_type": "code",
        "id": "WUi85S2I03gK",
        "outputId": "aa473846-15e2-4682-d266-ec7638bfbdce",
        "colab": {
          "base_uri": "https://localhost:8080/",
          "height": 51
        }
      },
      "source": [
        "train_dataset_embedding = tf.data.Dataset.from_tensor_slices((train_data, train_split['genres']))\n",
        "test_dataset_embedding = tf.data.Dataset.from_tensor_slices((test_data, test_split['genres']))\n",
        "validation_dataset_embedding = tf.data.Dataset.from_tensor_slices((validation_data, validation_split['genres']))\n",
        "\n",
        "train_dataset_embedding.element_spec"
      ],
      "execution_count": 53,
      "outputs": [
        {
          "output_type": "execute_result",
          "data": {
            "text/plain": [
              "(TensorSpec(shape=(974,), dtype=tf.int32, name=None),\n",
              " TensorSpec(shape=(5,), dtype=tf.int32, name=None))"
            ]
          },
          "metadata": {
            "tags": []
          },
          "execution_count": 53
        }
      ]
    },
    {
      "cell_type": "code",
      "metadata": {
        "colab_type": "code",
        "outputId": "aee6e2c1-8fd2-44a4-b9fd-b6c48a79fef1",
        "id": "H81o-FMI03ga",
        "colab": {
          "base_uri": "https://localhost:8080/",
          "height": 1000
        }
      },
      "source": [
        "overview, genres = next(iter(train_dataset_embedding))\n",
        "overview, genres"
      ],
      "execution_count": 54,
      "outputs": [
        {
          "output_type": "execute_result",
          "data": {
            "text/plain": [
              "(<tf.Tensor: shape=(974,), dtype=int32, numpy=\n",
              " array([   1,   45,    4,    1,  100,  684,  225,    4,    1,   98, 6184,\n",
              "           4,    1, 1230,   72,    3,    1,  712,   13,  182, 3255,   14,\n",
              "        1655,   27,    0,    0,    0,    0,    0,    0,    0,    0,    0,\n",
              "           0,    0,    0,    0,    0,    0,    0,    0,    0,    0,    0,\n",
              "           0,    0,    0,    0,    0,    0,    0,    0,    0,    0,    0,\n",
              "           0,    0,    0,    0,    0,    0,    0,    0,    0,    0,    0,\n",
              "           0,    0,    0,    0,    0,    0,    0,    0,    0,    0,    0,\n",
              "           0,    0,    0,    0,    0,    0,    0,    0,    0,    0,    0,\n",
              "           0,    0,    0,    0,    0,    0,    0,    0,    0,    0,    0,\n",
              "           0,    0,    0,    0,    0,    0,    0,    0,    0,    0,    0,\n",
              "           0,    0,    0,    0,    0,    0,    0,    0,    0,    0,    0,\n",
              "           0,    0,    0,    0,    0,    0,    0,    0,    0,    0,    0,\n",
              "           0,    0,    0,    0,    0,    0,    0,    0,    0,    0,    0,\n",
              "           0,    0,    0,    0,    0,    0,    0,    0,    0,    0,    0,\n",
              "           0,    0,    0,    0,    0,    0,    0,    0,    0,    0,    0,\n",
              "           0,    0,    0,    0,    0,    0,    0,    0,    0,    0,    0,\n",
              "           0,    0,    0,    0,    0,    0,    0,    0,    0,    0,    0,\n",
              "           0,    0,    0,    0,    0,    0,    0,    0,    0,    0,    0,\n",
              "           0,    0,    0,    0,    0,    0,    0,    0,    0,    0,    0,\n",
              "           0,    0,    0,    0,    0,    0,    0,    0,    0,    0,    0,\n",
              "           0,    0,    0,    0,    0,    0,    0,    0,    0,    0,    0,\n",
              "           0,    0,    0,    0,    0,    0,    0,    0,    0,    0,    0,\n",
              "           0,    0,    0,    0,    0,    0,    0,    0,    0,    0,    0,\n",
              "           0,    0,    0,    0,    0,    0,    0,    0,    0,    0,    0,\n",
              "           0,    0,    0,    0,    0,    0,    0,    0,    0,    0,    0,\n",
              "           0,    0,    0,    0,    0,    0,    0,    0,    0,    0,    0,\n",
              "           0,    0,    0,    0,    0,    0,    0,    0,    0,    0,    0,\n",
              "           0,    0,    0,    0,    0,    0,    0,    0,    0,    0,    0,\n",
              "           0,    0,    0,    0,    0,    0,    0,    0,    0,    0,    0,\n",
              "           0,    0,    0,    0,    0,    0,    0,    0,    0,    0,    0,\n",
              "           0,    0,    0,    0,    0,    0,    0,    0,    0,    0,    0,\n",
              "           0,    0,    0,    0,    0,    0,    0,    0,    0,    0,    0,\n",
              "           0,    0,    0,    0,    0,    0,    0,    0,    0,    0,    0,\n",
              "           0,    0,    0,    0,    0,    0,    0,    0,    0,    0,    0,\n",
              "           0,    0,    0,    0,    0,    0,    0,    0,    0,    0,    0,\n",
              "           0,    0,    0,    0,    0,    0,    0,    0,    0,    0,    0,\n",
              "           0,    0,    0,    0,    0,    0,    0,    0,    0,    0,    0,\n",
              "           0,    0,    0,    0,    0,    0,    0,    0,    0,    0,    0,\n",
              "           0,    0,    0,    0,    0,    0,    0,    0,    0,    0,    0,\n",
              "           0,    0,    0,    0,    0,    0,    0,    0,    0,    0,    0,\n",
              "           0,    0,    0,    0,    0,    0,    0,    0,    0,    0,    0,\n",
              "           0,    0,    0,    0,    0,    0,    0,    0,    0,    0,    0,\n",
              "           0,    0,    0,    0,    0,    0,    0,    0,    0,    0,    0,\n",
              "           0,    0,    0,    0,    0,    0,    0,    0,    0,    0,    0,\n",
              "           0,    0,    0,    0,    0,    0,    0,    0,    0,    0,    0,\n",
              "           0,    0,    0,    0,    0,    0,    0,    0,    0,    0,    0,\n",
              "           0,    0,    0,    0,    0,    0,    0,    0,    0,    0,    0,\n",
              "           0,    0,    0,    0,    0,    0,    0,    0,    0,    0,    0,\n",
              "           0,    0,    0,    0,    0,    0,    0,    0,    0,    0,    0,\n",
              "           0,    0,    0,    0,    0,    0,    0,    0,    0,    0,    0,\n",
              "           0,    0,    0,    0,    0,    0,    0,    0,    0,    0,    0,\n",
              "           0,    0,    0,    0,    0,    0,    0,    0,    0,    0,    0,\n",
              "           0,    0,    0,    0,    0,    0,    0,    0,    0,    0,    0,\n",
              "           0,    0,    0,    0,    0,    0,    0,    0,    0,    0,    0,\n",
              "           0,    0,    0,    0,    0,    0,    0,    0,    0,    0,    0,\n",
              "           0,    0,    0,    0,    0,    0,    0,    0,    0,    0,    0,\n",
              "           0,    0,    0,    0,    0,    0,    0,    0,    0,    0,    0,\n",
              "           0,    0,    0,    0,    0,    0,    0,    0,    0,    0,    0,\n",
              "           0,    0,    0,    0,    0,    0,    0,    0,    0,    0,    0,\n",
              "           0,    0,    0,    0,    0,    0,    0,    0,    0,    0,    0,\n",
              "           0,    0,    0,    0,    0,    0,    0,    0,    0,    0,    0,\n",
              "           0,    0,    0,    0,    0,    0,    0,    0,    0,    0,    0,\n",
              "           0,    0,    0,    0,    0,    0,    0,    0,    0,    0,    0,\n",
              "           0,    0,    0,    0,    0,    0,    0,    0,    0,    0,    0,\n",
              "           0,    0,    0,    0,    0,    0,    0,    0,    0,    0,    0,\n",
              "           0,    0,    0,    0,    0,    0,    0,    0,    0,    0,    0,\n",
              "           0,    0,    0,    0,    0,    0,    0,    0,    0,    0,    0,\n",
              "           0,    0,    0,    0,    0,    0,    0,    0,    0,    0,    0,\n",
              "           0,    0,    0,    0,    0,    0,    0,    0,    0,    0,    0,\n",
              "           0,    0,    0,    0,    0,    0,    0,    0,    0,    0,    0,\n",
              "           0,    0,    0,    0,    0,    0,    0,    0,    0,    0,    0,\n",
              "           0,    0,    0,    0,    0,    0,    0,    0,    0,    0,    0,\n",
              "           0,    0,    0,    0,    0,    0,    0,    0,    0,    0,    0,\n",
              "           0,    0,    0,    0,    0,    0,    0,    0,    0,    0,    0,\n",
              "           0,    0,    0,    0,    0,    0,    0,    0,    0,    0,    0,\n",
              "           0,    0,    0,    0,    0,    0,    0,    0,    0,    0,    0,\n",
              "           0,    0,    0,    0,    0,    0,    0,    0,    0,    0,    0,\n",
              "           0,    0,    0,    0,    0,    0,    0,    0,    0,    0,    0,\n",
              "           0,    0,    0,    0,    0,    0,    0,    0,    0,    0,    0,\n",
              "           0,    0,    0,    0,    0,    0,    0,    0,    0,    0,    0,\n",
              "           0,    0,    0,    0,    0,    0,    0,    0,    0,    0,    0,\n",
              "           0,    0,    0,    0,    0,    0,    0,    0,    0,    0,    0,\n",
              "           0,    0,    0,    0,    0,    0,    0,    0,    0,    0,    0,\n",
              "           0,    0,    0,    0,    0,    0,    0,    0,    0,    0,    0,\n",
              "           0,    0,    0,    0,    0,    0,    0,    0,    0,    0,    0,\n",
              "           0,    0,    0,    0,    0,    0,    0,    0,    0,    0,    0,\n",
              "           0,    0,    0,    0,    0,    0,    0,    0,    0,    0,    0,\n",
              "           0,    0,    0,    0,    0,    0,    0,    0,    0,    0,    0,\n",
              "           0,    0,    0,    0,    0,    0], dtype=int32)>,\n",
              " <tf.Tensor: shape=(5,), dtype=int32, numpy=array([0, 0, 0, 0, 1], dtype=int32)>)"
            ]
          },
          "metadata": {
            "tags": []
          },
          "execution_count": 54
        }
      ]
    },
    {
      "cell_type": "code",
      "metadata": {
        "colab_type": "code",
        "id": "BDZq3Hkm03gs",
        "colab": {}
      },
      "source": [
        "train_dataset_embedding = train_dataset_embedding.shuffle(shuffle_buffer_size).repeat().batch(batch_size)\n",
        "validation_dataset_embedding = validation_dataset_embedding.shuffle(shuffle_buffer_size).batch(batch_size)\n",
        "test_dataset_embedding = test_dataset_embedding.shuffle(shuffle_buffer_size).batch(batch_size)"
      ],
      "execution_count": 0,
      "outputs": []
    },
    {
      "cell_type": "code",
      "metadata": {
        "id": "udVOikyYBWJ4",
        "colab_type": "code",
        "outputId": "6c69e9cf-93d3-4861-bc77-8c7a0aae647f",
        "colab": {
          "base_uri": "https://localhost:8080/",
          "height": 34
        }
      },
      "source": [
        "overview, genres = next(iter(train_dataset_embedding))\n",
        "overview.shape"
      ],
      "execution_count": 56,
      "outputs": [
        {
          "output_type": "execute_result",
          "data": {
            "text/plain": [
              "TensorShape([128, 974])"
            ]
          },
          "metadata": {
            "tags": []
          },
          "execution_count": 56
        }
      ]
    },
    {
      "cell_type": "markdown",
      "metadata": {
        "id": "a9k1ZyoMmZol",
        "colab_type": "text"
      },
      "source": [
        "### Build model"
      ]
    },
    {
      "cell_type": "code",
      "metadata": {
        "id": "rw2v0qsKiOor",
        "colab_type": "code",
        "outputId": "f5431dc5-2c9a-4ad8-9e6c-bd1cfcb7beef",
        "colab": {
          "base_uri": "https://localhost:8080/",
          "height": 289
        }
      },
      "source": [
        "embeddings_model = Sequential([\n",
        "    Embedding(vocab_size, 128, input_length=max_len),\n",
        "    Flatten(),\n",
        "    Dense(128, activation='relu'),  \n",
        "    Dense(CLASS_COUNT, activation='sigmoid'),\n",
        "])\n",
        "\n",
        "embeddings_model.summary()"
      ],
      "execution_count": 57,
      "outputs": [
        {
          "output_type": "stream",
          "text": [
            "Model: \"sequential_1\"\n",
            "_________________________________________________________________\n",
            "Layer (type)                 Output Shape              Param #   \n",
            "=================================================================\n",
            "embedding (Embedding)        (None, 974, 128)          2109184   \n",
            "_________________________________________________________________\n",
            "flatten (Flatten)            (None, 124672)            0         \n",
            "_________________________________________________________________\n",
            "dense_2 (Dense)              (None, 128)               15958144  \n",
            "_________________________________________________________________\n",
            "dense_3 (Dense)              (None, 5)                 645       \n",
            "=================================================================\n",
            "Total params: 18,067,973\n",
            "Trainable params: 18,067,973\n",
            "Non-trainable params: 0\n",
            "_________________________________________________________________\n"
          ],
          "name": "stdout"
        }
      ]
    },
    {
      "cell_type": "code",
      "metadata": {
        "colab_type": "code",
        "id": "nYAEtxaA0cdK",
        "colab": {}
      },
      "source": [
        "embeddings_model.compile(optimizer='adam',\n",
        "              loss='binary_crossentropy',\n",
        "              metrics=['accuracy'])"
      ],
      "execution_count": 0,
      "outputs": []
    },
    {
      "cell_type": "code",
      "metadata": {
        "colab_type": "code",
        "outputId": "c646d05e-85d1-4031-ba1d-0612f0dac2ed",
        "id": "PXSDcRf60cdZ",
        "colab": {
          "base_uri": "https://localhost:8080/",
          "height": 714
        }
      },
      "source": [
        "history = embeddings_model.fit(train_dataset_embedding,\n",
        "                    epochs=epochs,\n",
        "                    steps_per_epoch=train_steps,\n",
        "                    validation_data=validation_dataset_embedding,\n",
        "                    validation_steps=validation_steps\n",
        "                   )         "
      ],
      "execution_count": 59,
      "outputs": [
        {
          "output_type": "stream",
          "text": [
            "Train for 10 steps, validate for 5 steps\n",
            "Epoch 1/20\n",
            "10/10 [==============================] - 5s 491ms/step - loss: 1.0098 - accuracy: 0.5816 - val_loss: 0.7143 - val_accuracy: 0.6269\n",
            "Epoch 2/20\n",
            "10/10 [==============================] - 5s 453ms/step - loss: 0.6769 - accuracy: 0.6200 - val_loss: 0.6515 - val_accuracy: 0.6713\n",
            "Epoch 3/20\n",
            "10/10 [==============================] - 5s 457ms/step - loss: 0.6123 - accuracy: 0.6809 - val_loss: 0.6136 - val_accuracy: 0.6712\n",
            "Epoch 4/20\n",
            "10/10 [==============================] - 5s 456ms/step - loss: 0.5938 - accuracy: 0.6842 - val_loss: 0.6106 - val_accuracy: 0.6725\n",
            "Epoch 5/20\n",
            "10/10 [==============================] - 4s 444ms/step - loss: 0.5777 - accuracy: 0.7030 - val_loss: 0.6034 - val_accuracy: 0.6831\n",
            "Epoch 6/20\n",
            "10/10 [==============================] - 4s 448ms/step - loss: 0.5445 - accuracy: 0.7375 - val_loss: 0.5931 - val_accuracy: 0.6875\n",
            "Epoch 7/20\n",
            "10/10 [==============================] - 4s 449ms/step - loss: 0.5175 - accuracy: 0.7505 - val_loss: 0.5903 - val_accuracy: 0.6903\n",
            "Epoch 8/20\n",
            "10/10 [==============================] - 5s 455ms/step - loss: 0.4672 - accuracy: 0.8195 - val_loss: 0.5765 - val_accuracy: 0.6994\n",
            "Epoch 9/20\n",
            "10/10 [==============================] - 5s 450ms/step - loss: 0.4245 - accuracy: 0.8345 - val_loss: 0.5640 - val_accuracy: 0.7113\n",
            "Epoch 10/20\n",
            "10/10 [==============================] - 4s 435ms/step - loss: 0.3704 - accuracy: 0.8756 - val_loss: 0.5554 - val_accuracy: 0.7147\n",
            "Epoch 11/20\n",
            "10/10 [==============================] - 5s 452ms/step - loss: 0.3260 - accuracy: 0.8891 - val_loss: 0.5552 - val_accuracy: 0.7128\n",
            "Epoch 12/20\n",
            "10/10 [==============================] - 4s 450ms/step - loss: 0.2946 - accuracy: 0.9075 - val_loss: 0.5497 - val_accuracy: 0.7188\n",
            "Epoch 13/20\n",
            "10/10 [==============================] - 4s 450ms/step - loss: 0.2392 - accuracy: 0.9358 - val_loss: 0.5625 - val_accuracy: 0.7219\n",
            "Epoch 14/20\n",
            "10/10 [==============================] - 4s 439ms/step - loss: 0.2162 - accuracy: 0.9439 - val_loss: 0.5507 - val_accuracy: 0.7203\n",
            "Epoch 15/20\n",
            "10/10 [==============================] - 4s 449ms/step - loss: 0.1896 - accuracy: 0.9583 - val_loss: 0.5577 - val_accuracy: 0.7219\n",
            "Epoch 16/20\n",
            "10/10 [==============================] - 5s 450ms/step - loss: 0.1515 - accuracy: 0.9684 - val_loss: 0.5590 - val_accuracy: 0.7194\n",
            "Epoch 17/20\n",
            "10/10 [==============================] - 5s 452ms/step - loss: 0.1375 - accuracy: 0.9767 - val_loss: 0.5695 - val_accuracy: 0.7206\n",
            "Epoch 18/20\n",
            "10/10 [==============================] - 4s 446ms/step - loss: 0.1097 - accuracy: 0.9809 - val_loss: 0.5789 - val_accuracy: 0.7222\n",
            "Epoch 19/20\n",
            "10/10 [==============================] - 4s 449ms/step - loss: 0.1007 - accuracy: 0.9845 - val_loss: 0.5756 - val_accuracy: 0.7219\n",
            "Epoch 20/20\n",
            "10/10 [==============================] - 5s 457ms/step - loss: 0.0763 - accuracy: 0.9930 - val_loss: 0.6038 - val_accuracy: 0.7225\n"
          ],
          "name": "stdout"
        }
      ]
    },
    {
      "cell_type": "markdown",
      "metadata": {
        "colab_type": "text",
        "id": "6HiEIuyH0cdl"
      },
      "source": [
        "###Validation"
      ]
    },
    {
      "cell_type": "code",
      "metadata": {
        "colab_type": "code",
        "id": "EtvNVgvJ0cdo",
        "outputId": "2ac312f6-f84c-483f-c90f-89a8684be1c1",
        "colab": {
          "base_uri": "https://localhost:8080/",
          "height": 621
        }
      },
      "source": [
        "acc = history.history['accuracy']\n",
        "val_acc = history.history['val_accuracy']\n",
        "\n",
        "loss = history.history['loss']\n",
        "val_loss = history.history['val_loss']\n",
        "\n",
        "plt.figure(figsize=(10, 10))\n",
        "plt.subplot(2, 1, 1)\n",
        "plt.plot(acc, label='Training Accuracy')\n",
        "plt.plot(val_acc, label='Validation Accuracy')\n",
        "plt.legend(loc='lower right')\n",
        "plt.setp(plt.legend().get_texts(), color='black')\n",
        "plt.ylabel('Accuracy')\n",
        "plt.ylim([min(plt.ylim()),1.0])\n",
        "plt.title('Training and Validation Accuracy')\n",
        "\n",
        "plt.subplot(2, 1, 2)\n",
        "plt.plot(loss, label='Training Loss')\n",
        "plt.plot(val_loss, label='Validation Loss')\n",
        "plt.legend(loc='upper right')\n",
        "plt.setp(plt.legend().get_texts(), color='black')\n",
        "plt.ylabel('Cross Entropy')\n",
        "plt.ylim([0.0,1.0])\n",
        "plt.title('Training and Validation Loss')\n",
        "plt.xlabel('epoch')\n",
        "plt.show()"
      ],
      "execution_count": 60,
      "outputs": [
        {
          "output_type": "display_data",
          "data": {
            "image/png": "[encoded data removed]",
            "text/plain": [
              "<Figure size 720x720 with 2 Axes>"
            ]
          },
          "metadata": {
            "tags": []
          }
        }
      ]
    },
    {
      "cell_type": "code",
      "metadata": {
        "colab_type": "code",
        "id": "sls2H87I0cdx",
        "outputId": "cfa288b6-5772-4702-f971-ed2d58001541",
        "colab": {
          "base_uri": "https://localhost:8080/",
          "height": 51
        }
      },
      "source": [
        "test_loss, test_acc = embeddings_model.evaluate(test_dataset_embedding, verbose=3)\n",
        "\n",
        "print('Loss:', test_loss)\n",
        "print('Accuracy:', test_acc)"
      ],
      "execution_count": 61,
      "outputs": [
        {
          "output_type": "stream",
          "text": [
            "Loss: 0.6390018363793691\n",
            "Accuracy: 0.70889574\n"
          ],
          "name": "stdout"
        }
      ]
    },
    {
      "cell_type": "code",
      "metadata": {
        "colab_type": "code",
        "id": "3mewpO0s0cd6",
        "outputId": "0d2634e4-234d-4287-db51-c877053d16cf",
        "colab": {
          "base_uri": "https://localhost:8080/",
          "height": 156
        }
      },
      "source": [
        "features, labels = next(iter(test_dataset_embedding))\n",
        "\n",
        "test_index = np.random.randint(features.shape[0])\n",
        "test_input = features[test_index]\n",
        "test_label = labels[test_index]\n",
        "predictions = embeddings_model.predict(tf.expand_dims(test_input, axis=0))\n",
        "\n",
        "expected_labels = np.array(CLASS_NAMES)[np.argwhere(test_label == 1)].flatten()\n",
        "predicted_labels = \"\"\n",
        "for i in (-predictions[0]).argsort()[:2]:\n",
        "  predicted_labels += CLASS_NAMES[i] + \" (\" + str(np.around(predictions[0][i], decimals=2)) + \")\\n\"\n",
        "\n",
        "test_input_decoded = \" \".join([reverse_word_map[x] for x in test_input.numpy()[test_input.numpy() != 0]])\n",
        "\n",
        "print('Input',test_input_decoded)\n",
        "print('Expected labels',expected_labels)\n",
        "print('\\nTop 2 predicted labels are:\\n', predicted_labels)"
      ],
      "execution_count": 62,
      "outputs": [
        {
          "output_type": "stream",
          "text": [
            "Input history make that high school may itself when learns that the mean girl from her past is set to be her sister in law before the wedding toll must show her brother that tiger doesn change its stripes on side is her mother while backed by her wealthy aunt\n",
            "Expected labels ['Comedy' 'Romance']\n",
            "\n",
            "Top 2 predicted labels are:\n",
            " Comedy (0.61)\n",
            "Drama (0.29)\n",
            "\n"
          ],
          "name": "stdout"
        }
      ]
    },
    {
      "cell_type": "code",
      "metadata": {
        "id": "W6wmfFzhF7WH",
        "colab_type": "code",
        "outputId": "137248c1-7d99-4599-a801-284ca4091370",
        "colab": {
          "base_uri": "https://localhost:8080/",
          "height": 34
        }
      },
      "source": [
        "test_input = \"The Imperial Forces -- under orders from cruel Darth Vader (David Prowse) -- hold Princess Leia (Carrie Fisher) hostage, in their efforts to quell the rebellion against the Galactic Empire. Luke Skywalker (Mark Hamill) and Han Solo (Harrison Ford), captain of the Millennium Falcon, work together with the companionable droid duo R2-D2 (Kenny Baker) and C-3PO (Anthony Daniels) to rescue the beautiful princess, help the Rebel Alliance, and restore freedom and justice to the Galaxy.\"\n",
        "test_input_encoded = pad_sequences(tokenizer.texts_to_sequences([test_input,]), maxlen=max_len, padding='post')\n",
        "test_input_encoded.shape"
      ],
      "execution_count": 63,
      "outputs": [
        {
          "output_type": "execute_result",
          "data": {
            "text/plain": [
              "(1, 974)"
            ]
          },
          "metadata": {
            "tags": []
          },
          "execution_count": 63
        }
      ]
    },
    {
      "cell_type": "code",
      "metadata": {
        "colab_type": "code",
        "id": "IZJI5w4N0ceD",
        "outputId": "de429ff5-80e6-44b5-ebf9-0552c2c32802",
        "colab": {
          "base_uri": "https://localhost:8080/",
          "height": 102
        }
      },
      "source": [
        "predictions = embeddings_model.predict(test_input_encoded)\n",
        "predicted_labels = \"\"\n",
        "for i in (-predictions[0]).argsort()[:2]:\n",
        "  predicted_labels += CLASS_NAMES[i] + \" (\" + str(np.around(predictions[0][i], decimals=2)) + \")\\n\"\n",
        "\n",
        "print('\\nTop 2 predicted labels are:\\n', predicted_labels)"
      ],
      "execution_count": 64,
      "outputs": [
        {
          "output_type": "stream",
          "text": [
            "\n",
            "Top 2 predicted labels are:\n",
            " Action (0.7)\n",
            "Thriller (0.43)\n",
            "\n"
          ],
          "name": "stdout"
        }
      ]
    }
  ]
}